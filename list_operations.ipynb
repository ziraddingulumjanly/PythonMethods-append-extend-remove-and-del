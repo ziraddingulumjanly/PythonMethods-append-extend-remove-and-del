{
 "cells": [
  {
   "cell_type": "code",
   "execution_count": 2,
   "metadata": {},
   "outputs": [
    {
     "name": "stdout",
     "output_type": "stream",
     "text": [
      "After append('Date'): ['Apple', 'Banana', 'Cherry', 'Date']\n",
      "After extend(['Elderberry', 'Fig']): ['Apple', 'Banana', 'Cherry', 'Date', 'Elderberry', 'Fig']\n",
      "After remove('Banana'): ['Apple', 'Cherry', 'Date', 'Elderberry', 'Fig']\n",
      "After del my_list[2]: ['Apple', 'Cherry', 'Elderberry', 'Fig']\n",
      "After del my_list[1:3]: ['Apple', 'Fig']\n",
      "Final list state: ['Apple', 'Fig']\n"
     ]
    }
   ],
   "source": [
    "my_list = [\"Apple\", \"Banana\", \"Cherry\"]\n",
    "\n",
    "# 1. Demonstrating the `append()` method\n",
    "# Adds a single element \"Date\" to the end of the list\n",
    "my_list.append(\"Date\")\n",
    "print(\"After append('Date'):\", my_list)\n",
    "# Output: [\"Apple\", \"Banana\", \"Cherry\", \"Date\"]\n",
    "\n",
    "# 2. Demonstrating the `extend()` method\n",
    "# Adds elements from the given list [\"Elderberry\", \"Fig\"] to `my_list` one by one\n",
    "my_list.extend([\"Elderberry\", \"Fig\"])\n",
    "print(\"After extend(['Elderberry', 'Fig']):\", my_list)\n",
    "# Output: [\"Apple\", \"Banana\", \"Cherry\", \"Date\", \"Elderberry\", \"Fig\"]\n",
    "\n",
    "# 3. Demonstrating the `remove()` method\n",
    "# Removes the first occurrence of \"Banana\" from the list\n",
    "my_list.remove(\"Banana\")\n",
    "print(\"After remove('Banana'):\", my_list)\n",
    "# Output: [\"Apple\", \"Cherry\", \"Date\", \"Elderberry\", \"Fig\"]\n",
    "\n",
    "# 4. Demonstrating the `del` statement\n",
    "# Deletes the element at index 2 (which is \"Date\" in this case)\n",
    "del my_list[2]\n",
    "print(\"After del my_list[2]:\", my_list)\n",
    "# Output: [\"Apple\", \"Cherry\", \"Elderberry\", \"Fig\"]\n",
    "\n",
    "# 5. Using `del` to delete a slice of elements\n",
    "# Deletes elements from index 1 to 3 (removes \"Cherry\" and \"Elderberry\")\n",
    "del my_list[1:3]\n",
    "print(\"After del my_list[1:3]:\", my_list)\n",
    "# Output: [\"Apple\", \"Fig\"]\n",
    "\n",
    "# 6. Demonstrating Error Handling\n",
    "# Uncomment the line below to see a `ValueError` if \"Grape\" is not in the list\n",
    "# my_list.remove(\"Grape\")  # Raises ValueError: list.remove(x): x not in list\n",
    "\n",
    "# Uncomment the line below to see an `IndexError` when trying to delete an index out of range\n",
    "# del my_list[10]  # Raises IndexError: list assignment index out of range\n",
    "\n",
    "# Final list after all operations\n",
    "print(\"Final list state:\", my_list)\n",
    "# Output: [\"Apple\", \"Fig\"]\n"
   ]
  }
 ],
 "metadata": {
  "kernelspec": {
   "display_name": "Python 3",
   "language": "python",
   "name": "python3"
  },
  "language_info": {
   "codemirror_mode": {
    "name": "ipython",
    "version": 3
   },
   "file_extension": ".py",
   "mimetype": "text/x-python",
   "name": "python",
   "nbconvert_exporter": "python",
   "pygments_lexer": "ipython3",
   "version": "3.12.0"
  }
 },
 "nbformat": 4,
 "nbformat_minor": 2
}
